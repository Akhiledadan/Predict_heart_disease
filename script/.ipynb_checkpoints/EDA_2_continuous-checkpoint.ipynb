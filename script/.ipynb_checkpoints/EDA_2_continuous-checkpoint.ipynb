{
 "cells": [
  {
   "cell_type": "code",
   "execution_count": 47,
   "metadata": {},
   "outputs": [],
   "source": [
    "import pandas as pd\n",
    "import numpy as np\n",
    "from scipy import stats\n",
    "import matplotlib.pyplot as plt\n",
    "import seaborn as sns\n",
    "%matplotlib inline"
   ]
  },
  {
   "cell_type": "code",
   "execution_count": 48,
   "metadata": {},
   "outputs": [
    {
     "data": {
      "text/html": [
       "<div>\n",
       "<style scoped>\n",
       "    .dataframe tbody tr th:only-of-type {\n",
       "        vertical-align: middle;\n",
       "    }\n",
       "\n",
       "    .dataframe tbody tr th {\n",
       "        vertical-align: top;\n",
       "    }\n",
       "\n",
       "    .dataframe thead th {\n",
       "        text-align: right;\n",
       "    }\n",
       "</style>\n",
       "<table border=\"1\" class=\"dataframe\">\n",
       "  <thead>\n",
       "    <tr style=\"text-align: right;\">\n",
       "      <th></th>\n",
       "      <th>age</th>\n",
       "      <th>sex</th>\n",
       "      <th>cp</th>\n",
       "      <th>chol</th>\n",
       "      <th>restecg</th>\n",
       "      <th>exang</th>\n",
       "      <th>oldpeak</th>\n",
       "      <th>slope</th>\n",
       "      <th>thal</th>\n",
       "      <th>target</th>\n",
       "      <th>restingBP</th>\n",
       "      <th>fastingBS</th>\n",
       "      <th>maxHR</th>\n",
       "      <th>numVessels</th>\n",
       "    </tr>\n",
       "  </thead>\n",
       "  <tbody>\n",
       "    <tr>\n",
       "      <th>0</th>\n",
       "      <td>63</td>\n",
       "      <td>1</td>\n",
       "      <td>3</td>\n",
       "      <td>233</td>\n",
       "      <td>0</td>\n",
       "      <td>0</td>\n",
       "      <td>2.3</td>\n",
       "      <td>0</td>\n",
       "      <td>1</td>\n",
       "      <td>1</td>\n",
       "      <td>145</td>\n",
       "      <td>1</td>\n",
       "      <td>150</td>\n",
       "      <td>0</td>\n",
       "    </tr>\n",
       "    <tr>\n",
       "      <th>1</th>\n",
       "      <td>37</td>\n",
       "      <td>1</td>\n",
       "      <td>2</td>\n",
       "      <td>250</td>\n",
       "      <td>1</td>\n",
       "      <td>0</td>\n",
       "      <td>3.5</td>\n",
       "      <td>0</td>\n",
       "      <td>2</td>\n",
       "      <td>1</td>\n",
       "      <td>130</td>\n",
       "      <td>0</td>\n",
       "      <td>187</td>\n",
       "      <td>0</td>\n",
       "    </tr>\n",
       "    <tr>\n",
       "      <th>2</th>\n",
       "      <td>41</td>\n",
       "      <td>0</td>\n",
       "      <td>1</td>\n",
       "      <td>204</td>\n",
       "      <td>0</td>\n",
       "      <td>0</td>\n",
       "      <td>1.4</td>\n",
       "      <td>2</td>\n",
       "      <td>2</td>\n",
       "      <td>1</td>\n",
       "      <td>130</td>\n",
       "      <td>0</td>\n",
       "      <td>172</td>\n",
       "      <td>0</td>\n",
       "    </tr>\n",
       "    <tr>\n",
       "      <th>3</th>\n",
       "      <td>56</td>\n",
       "      <td>1</td>\n",
       "      <td>1</td>\n",
       "      <td>236</td>\n",
       "      <td>1</td>\n",
       "      <td>0</td>\n",
       "      <td>0.8</td>\n",
       "      <td>2</td>\n",
       "      <td>2</td>\n",
       "      <td>1</td>\n",
       "      <td>120</td>\n",
       "      <td>0</td>\n",
       "      <td>178</td>\n",
       "      <td>0</td>\n",
       "    </tr>\n",
       "    <tr>\n",
       "      <th>4</th>\n",
       "      <td>57</td>\n",
       "      <td>0</td>\n",
       "      <td>0</td>\n",
       "      <td>354</td>\n",
       "      <td>1</td>\n",
       "      <td>1</td>\n",
       "      <td>0.6</td>\n",
       "      <td>2</td>\n",
       "      <td>2</td>\n",
       "      <td>1</td>\n",
       "      <td>120</td>\n",
       "      <td>0</td>\n",
       "      <td>163</td>\n",
       "      <td>0</td>\n",
       "    </tr>\n",
       "  </tbody>\n",
       "</table>\n",
       "</div>"
      ],
      "text/plain": [
       "   age  sex  cp  chol  restecg  exang  oldpeak  slope  thal  target  \\\n",
       "0   63    1   3   233        0      0      2.3      0     1       1   \n",
       "1   37    1   2   250        1      0      3.5      0     2       1   \n",
       "2   41    0   1   204        0      0      1.4      2     2       1   \n",
       "3   56    1   1   236        1      0      0.8      2     2       1   \n",
       "4   57    0   0   354        1      1      0.6      2     2       1   \n",
       "\n",
       "   restingBP  fastingBS  maxHR  numVessels  \n",
       "0        145          1    150           0  \n",
       "1        130          0    187           0  \n",
       "2        130          0    172           0  \n",
       "3        120          0    178           0  \n",
       "4        120          0    163           0  "
      ]
     },
     "execution_count": 48,
     "metadata": {},
     "output_type": "execute_result"
    }
   ],
   "source": [
    "heart_data = pd.read_csv('../data/heart_clean.csv')\n",
    "heart_data.head()"
   ]
  },
  {
   "cell_type": "code",
   "execution_count": 49,
   "metadata": {},
   "outputs": [
    {
     "data": {
      "text/plain": [
       "(303, 14)"
      ]
     },
     "execution_count": 49,
     "metadata": {},
     "output_type": "execute_result"
    }
   ],
   "source": [
    "heart_data.shape"
   ]
  },
  {
   "cell_type": "code",
   "execution_count": 52,
   "metadata": {},
   "outputs": [],
   "source": [
    "# Select only continuous variables\n",
    "cat_var = ['sex', 'cp', 'fastingBS', 'restecg', 'exang', 'slope', 'numVessels', 'thal']\n",
    "heart_data.drop(cat_var, axis=1, inplace=True)"
   ]
  },
  {
   "cell_type": "code",
   "execution_count": 53,
   "metadata": {},
   "outputs": [
    {
     "data": {
      "text/html": [
       "<div>\n",
       "<style scoped>\n",
       "    .dataframe tbody tr th:only-of-type {\n",
       "        vertical-align: middle;\n",
       "    }\n",
       "\n",
       "    .dataframe tbody tr th {\n",
       "        vertical-align: top;\n",
       "    }\n",
       "\n",
       "    .dataframe thead th {\n",
       "        text-align: right;\n",
       "    }\n",
       "</style>\n",
       "<table border=\"1\" class=\"dataframe\">\n",
       "  <thead>\n",
       "    <tr style=\"text-align: right;\">\n",
       "      <th></th>\n",
       "      <th>age</th>\n",
       "      <th>chol</th>\n",
       "      <th>oldpeak</th>\n",
       "      <th>target</th>\n",
       "      <th>restingBP</th>\n",
       "      <th>maxHR</th>\n",
       "    </tr>\n",
       "  </thead>\n",
       "  <tbody>\n",
       "    <tr>\n",
       "      <th>0</th>\n",
       "      <td>63</td>\n",
       "      <td>233</td>\n",
       "      <td>2.3</td>\n",
       "      <td>1</td>\n",
       "      <td>145</td>\n",
       "      <td>150</td>\n",
       "    </tr>\n",
       "    <tr>\n",
       "      <th>1</th>\n",
       "      <td>37</td>\n",
       "      <td>250</td>\n",
       "      <td>3.5</td>\n",
       "      <td>1</td>\n",
       "      <td>130</td>\n",
       "      <td>187</td>\n",
       "    </tr>\n",
       "    <tr>\n",
       "      <th>2</th>\n",
       "      <td>41</td>\n",
       "      <td>204</td>\n",
       "      <td>1.4</td>\n",
       "      <td>1</td>\n",
       "      <td>130</td>\n",
       "      <td>172</td>\n",
       "    </tr>\n",
       "    <tr>\n",
       "      <th>3</th>\n",
       "      <td>56</td>\n",
       "      <td>236</td>\n",
       "      <td>0.8</td>\n",
       "      <td>1</td>\n",
       "      <td>120</td>\n",
       "      <td>178</td>\n",
       "    </tr>\n",
       "    <tr>\n",
       "      <th>4</th>\n",
       "      <td>57</td>\n",
       "      <td>354</td>\n",
       "      <td>0.6</td>\n",
       "      <td>1</td>\n",
       "      <td>120</td>\n",
       "      <td>163</td>\n",
       "    </tr>\n",
       "  </tbody>\n",
       "</table>\n",
       "</div>"
      ],
      "text/plain": [
       "   age  chol  oldpeak  target  restingBP  maxHR\n",
       "0   63   233      2.3       1        145    150\n",
       "1   37   250      3.5       1        130    187\n",
       "2   41   204      1.4       1        130    172\n",
       "3   56   236      0.8       1        120    178\n",
       "4   57   354      0.6       1        120    163"
      ]
     },
     "execution_count": 53,
     "metadata": {},
     "output_type": "execute_result"
    }
   ],
   "source": [
    "heart_data.head()"
   ]
  },
  {
   "cell_type": "code",
   "execution_count": 54,
   "metadata": {},
   "outputs": [
    {
     "data": {
      "text/html": [
       "<div>\n",
       "<style scoped>\n",
       "    .dataframe tbody tr th:only-of-type {\n",
       "        vertical-align: middle;\n",
       "    }\n",
       "\n",
       "    .dataframe tbody tr th {\n",
       "        vertical-align: top;\n",
       "    }\n",
       "\n",
       "    .dataframe thead th {\n",
       "        text-align: right;\n",
       "    }\n",
       "</style>\n",
       "<table border=\"1\" class=\"dataframe\">\n",
       "  <thead>\n",
       "    <tr style=\"text-align: right;\">\n",
       "      <th></th>\n",
       "      <th>age</th>\n",
       "      <th>chol</th>\n",
       "      <th>oldpeak</th>\n",
       "      <th>target</th>\n",
       "      <th>restingBP</th>\n",
       "      <th>maxHR</th>\n",
       "    </tr>\n",
       "  </thead>\n",
       "  <tbody>\n",
       "    <tr>\n",
       "      <th>count</th>\n",
       "      <td>296.000000</td>\n",
       "      <td>296.000000</td>\n",
       "      <td>296.000000</td>\n",
       "      <td>296.000000</td>\n",
       "      <td>296.000000</td>\n",
       "      <td>296.000000</td>\n",
       "    </tr>\n",
       "    <tr>\n",
       "      <th>mean</th>\n",
       "      <td>54.310811</td>\n",
       "      <td>246.148649</td>\n",
       "      <td>1.044595</td>\n",
       "      <td>0.543919</td>\n",
       "      <td>131.493243</td>\n",
       "      <td>149.993243</td>\n",
       "    </tr>\n",
       "    <tr>\n",
       "      <th>std</th>\n",
       "      <td>9.077334</td>\n",
       "      <td>52.055689</td>\n",
       "      <td>1.165713</td>\n",
       "      <td>0.498911</td>\n",
       "      <td>17.651426</td>\n",
       "      <td>22.683525</td>\n",
       "    </tr>\n",
       "    <tr>\n",
       "      <th>min</th>\n",
       "      <td>29.000000</td>\n",
       "      <td>126.000000</td>\n",
       "      <td>0.000000</td>\n",
       "      <td>0.000000</td>\n",
       "      <td>94.000000</td>\n",
       "      <td>71.000000</td>\n",
       "    </tr>\n",
       "    <tr>\n",
       "      <th>25%</th>\n",
       "      <td>47.000000</td>\n",
       "      <td>211.000000</td>\n",
       "      <td>0.000000</td>\n",
       "      <td>0.000000</td>\n",
       "      <td>120.000000</td>\n",
       "      <td>136.000000</td>\n",
       "    </tr>\n",
       "    <tr>\n",
       "      <th>50%</th>\n",
       "      <td>55.000000</td>\n",
       "      <td>240.000000</td>\n",
       "      <td>0.800000</td>\n",
       "      <td>1.000000</td>\n",
       "      <td>130.000000</td>\n",
       "      <td>153.000000</td>\n",
       "    </tr>\n",
       "    <tr>\n",
       "      <th>75%</th>\n",
       "      <td>61.000000</td>\n",
       "      <td>274.000000</td>\n",
       "      <td>1.600000</td>\n",
       "      <td>1.000000</td>\n",
       "      <td>140.000000</td>\n",
       "      <td>166.250000</td>\n",
       "    </tr>\n",
       "    <tr>\n",
       "      <th>max</th>\n",
       "      <td>77.000000</td>\n",
       "      <td>564.000000</td>\n",
       "      <td>6.200000</td>\n",
       "      <td>1.000000</td>\n",
       "      <td>200.000000</td>\n",
       "      <td>202.000000</td>\n",
       "    </tr>\n",
       "  </tbody>\n",
       "</table>\n",
       "</div>"
      ],
      "text/plain": [
       "              age        chol     oldpeak      target   restingBP       maxHR\n",
       "count  296.000000  296.000000  296.000000  296.000000  296.000000  296.000000\n",
       "mean    54.310811  246.148649    1.044595    0.543919  131.493243  149.993243\n",
       "std      9.077334   52.055689    1.165713    0.498911   17.651426   22.683525\n",
       "min     29.000000  126.000000    0.000000    0.000000   94.000000   71.000000\n",
       "25%     47.000000  211.000000    0.000000    0.000000  120.000000  136.000000\n",
       "50%     55.000000  240.000000    0.800000    1.000000  130.000000  153.000000\n",
       "75%     61.000000  274.000000    1.600000    1.000000  140.000000  166.250000\n",
       "max     77.000000  564.000000    6.200000    1.000000  200.000000  202.000000"
      ]
     },
     "execution_count": 54,
     "metadata": {},
     "output_type": "execute_result"
    }
   ],
   "source": [
    "heart_data.describe()"
   ]
  },
  {
   "cell_type": "code",
   "execution_count": 55,
   "metadata": {},
   "outputs": [
    {
     "data": {
      "text/html": [
       "<div>\n",
       "<style scoped>\n",
       "    .dataframe tbody tr th:only-of-type {\n",
       "        vertical-align: middle;\n",
       "    }\n",
       "\n",
       "    .dataframe tbody tr th {\n",
       "        vertical-align: top;\n",
       "    }\n",
       "\n",
       "    .dataframe thead th {\n",
       "        text-align: right;\n",
       "    }\n",
       "</style>\n",
       "<table border=\"1\" class=\"dataframe\">\n",
       "  <thead>\n",
       "    <tr style=\"text-align: right;\">\n",
       "      <th></th>\n",
       "      <th>age</th>\n",
       "      <th>chol</th>\n",
       "      <th>oldpeak</th>\n",
       "      <th>target</th>\n",
       "      <th>restingBP</th>\n",
       "      <th>maxHR</th>\n",
       "    </tr>\n",
       "  </thead>\n",
       "  <tbody>\n",
       "    <tr>\n",
       "      <th>age</th>\n",
       "      <td>1.000000</td>\n",
       "      <td>0.203094</td>\n",
       "      <td>0.205153</td>\n",
       "      <td>-0.217846</td>\n",
       "      <td>0.279319</td>\n",
       "      <td>-0.383084</td>\n",
       "    </tr>\n",
       "    <tr>\n",
       "      <th>chol</th>\n",
       "      <td>0.203094</td>\n",
       "      <td>1.000000</td>\n",
       "      <td>0.051658</td>\n",
       "      <td>-0.081176</td>\n",
       "      <td>0.120991</td>\n",
       "      <td>0.005432</td>\n",
       "    </tr>\n",
       "    <tr>\n",
       "      <th>oldpeak</th>\n",
       "      <td>0.205153</td>\n",
       "      <td>0.051658</td>\n",
       "      <td>1.000000</td>\n",
       "      <td>-0.420706</td>\n",
       "      <td>0.195548</td>\n",
       "      <td>-0.343914</td>\n",
       "    </tr>\n",
       "    <tr>\n",
       "      <th>target</th>\n",
       "      <td>-0.217846</td>\n",
       "      <td>-0.081176</td>\n",
       "      <td>-0.420706</td>\n",
       "      <td>1.000000</td>\n",
       "      <td>-0.142966</td>\n",
       "      <td>0.419672</td>\n",
       "    </tr>\n",
       "    <tr>\n",
       "      <th>restingBP</th>\n",
       "      <td>0.279319</td>\n",
       "      <td>0.120991</td>\n",
       "      <td>0.195548</td>\n",
       "      <td>-0.142966</td>\n",
       "      <td>1.000000</td>\n",
       "      <td>-0.039453</td>\n",
       "    </tr>\n",
       "    <tr>\n",
       "      <th>maxHR</th>\n",
       "      <td>-0.383084</td>\n",
       "      <td>0.005432</td>\n",
       "      <td>-0.343914</td>\n",
       "      <td>0.419672</td>\n",
       "      <td>-0.039453</td>\n",
       "      <td>1.000000</td>\n",
       "    </tr>\n",
       "  </tbody>\n",
       "</table>\n",
       "</div>"
      ],
      "text/plain": [
       "                age      chol   oldpeak    target  restingBP     maxHR\n",
       "age        1.000000  0.203094  0.205153 -0.217846   0.279319 -0.383084\n",
       "chol       0.203094  1.000000  0.051658 -0.081176   0.120991  0.005432\n",
       "oldpeak    0.205153  0.051658  1.000000 -0.420706   0.195548 -0.343914\n",
       "target    -0.217846 -0.081176 -0.420706  1.000000  -0.142966  0.419672\n",
       "restingBP  0.279319  0.120991  0.195548 -0.142966   1.000000 -0.039453\n",
       "maxHR     -0.383084  0.005432 -0.343914  0.419672  -0.039453  1.000000"
      ]
     },
     "execution_count": 55,
     "metadata": {},
     "output_type": "execute_result"
    }
   ],
   "source": [
    "# Check the correlation between the features\n",
    "heart_data.corr()"
   ]
  },
  {
   "cell_type": "code",
   "execution_count": 56,
   "metadata": {},
   "outputs": [],
   "source": [
    "# Look at the distribution of individual features at the level of the target variable\n",
    "def describe_cont_feat(feature):\n",
    "    print(f'\\n Results for {feature}')\n",
    "    print(heart_data.groupby(heart_data['target'])[feature].describe())\n",
    "    ttest(feature)\n",
    "    \n",
    "def ttest(feature):\n",
    "    disease = heart_data[heart_data['target']==1][feature]\n",
    "    healthy = heart_data[heart_data['target']==0][feature]\n",
    "    t_val, p_val = stats.ttest_ind(disease, healthy)\n",
    "    print(f't value = {t_val} and p value = {p_val}')"
   ]
  },
  {
   "cell_type": "code",
   "execution_count": 57,
   "metadata": {},
   "outputs": [
    {
     "name": "stdout",
     "output_type": "stream",
     "text": [
      "\n",
      " Results for age\n",
      "        count       mean       std   min   25%   50%   75%   max\n",
      "target                                                          \n",
      "0       135.0  56.466667  7.983004  35.0  52.0  58.0  62.0  77.0\n",
      "1       161.0  52.503106  9.557147  29.0  44.0  52.0  59.0  76.0\n",
      "t value = -3.827203839323172 and p value = 0.00015836029473091014\n",
      "\n",
      " Results for chol\n",
      "        count        mean        std    min    25%    50%    75%    max\n",
      "target                                                                 \n",
      "0       135.0  250.755556  49.693008  131.0  216.5  249.0  282.5  409.0\n",
      "1       161.0  242.285714  53.806532  126.0  208.0  234.0  267.0  564.0\n",
      "t value = -1.3964948770019177 and p value = 0.16361890286448239\n",
      "\n",
      " Results for oldpeak\n",
      "        count      mean       std  min   25%  50%   75%  max\n",
      "target                                                      \n",
      "0       135.0  1.579259  1.313426  0.0  0.55  1.4  2.55  6.2\n",
      "1       161.0  0.596273  0.785644  0.0  0.00  0.2  1.10  4.2\n",
      "t value = -7.951532389448848 and p value = 3.991314998962103e-14\n",
      "\n",
      " Results for target\n",
      "        count  mean  std  min  25%  50%  75%  max\n",
      "target                                           \n",
      "0       135.0   0.0  0.0  0.0  0.0  0.0  0.0  0.0\n",
      "1       161.0   1.0  0.0  1.0  1.0  1.0  1.0  1.0\n",
      "t value = inf and p value = 0.0\n",
      "\n",
      " Results for restingBP\n",
      "        count        mean        std    min    25%    50%    75%    max\n",
      "target                                                                 \n",
      "0       135.0  134.244444  18.791657  100.0  120.0  130.0  144.5  200.0\n",
      "1       161.0  129.186335  16.339448   94.0  120.0  130.0  140.0  180.0\n",
      "t value = -2.476790692875935 and p value = 0.013819394383535683\n",
      "\n",
      " Results for maxHR\n",
      "        count        mean        std   min    25%    50%    75%    max\n",
      "target                                                                \n",
      "0       135.0  139.614815  22.500741  71.0  125.0  142.0  156.5  195.0\n",
      "1       161.0  158.695652  18.909999  96.0  149.0  162.0  172.0  202.0\n",
      "t value = 7.927800183678966 and p value = 4.6723025106645797e-14\n"
     ]
    }
   ],
   "source": [
    "for feat in heart_data.columns:\n",
    "    describe_cont_feat(feat)"
   ]
  },
  {
   "cell_type": "markdown",
   "metadata": {},
   "source": [
    "##### There is a clear discrimination power for the \n",
    "- Maximum heart rate achieved (thalach) and\n",
    "- ST depression induced by exercise relative to rest (Oldpeak) "
   ]
  },
  {
   "cell_type": "markdown",
   "metadata": {},
   "source": [
    "#####  Visualizing the continuous variables"
   ]
  },
  {
   "cell_type": "code",
   "execution_count": 58,
   "metadata": {},
   "outputs": [
    {
     "name": "stderr",
     "output_type": "stream",
     "text": [
      "c:\\users\\akhil\\envs\\udemy_course\\lib\\site-packages\\seaborn\\distributions.py:2551: FutureWarning: `distplot` is a deprecated function and will be removed in a future version. Please adapt your code to use either `displot` (a figure-level function with similar flexibility) or `histplot` (an axes-level function for histograms).\n",
      "  warnings.warn(msg, FutureWarning)\n"
     ]
    },
    {
     "data": {
      "image/png": "[encoded data removed]",
      "text/plain": [
       "<Figure size 432x288 with 1 Axes>"
      ]
     },
     "metadata": {
      "needs_background": "light"
     },
     "output_type": "display_data"
    },
    {
     "data": {
      "image/png": "[encoded data removed]",
      "text/plain": [
       "<Figure size 432x288 with 1 Axes>"
      ]
     },
     "metadata": {
      "needs_background": "light"
     },
     "output_type": "display_data"
    },
    {
     "data": {
      "image/png": "[encoded data removed]",
      "text/plain": [
       "<Figure size 432x288 with 1 Axes>"
      ]
     },
     "metadata": {
      "needs_background": "light"
     },
     "output_type": "display_data"
    },
    {
     "data": {
      "image/png": "[encoded data removed]",
      "text/plain": [
       "<Figure size 432x288 with 1 Axes>"
      ]
     },
     "metadata": {
      "needs_background": "light"
     },
     "output_type": "display_data"
    },
    {
     "data": {
      "image/png": "[encoded data removed]",
      "text/plain": [
       "<Figure size 432x288 with 1 Axes>"
      ]
     },
     "metadata": {
      "needs_background": "light"
     },
     "output_type": "display_data"
    },
    {
     "data": {
      "image/png": "[encoded data removed]",
      "text/plain": [
       "<Figure size 432x288 with 1 Axes>"
      ]
     },
     "metadata": {
      "needs_background": "light"
     },
     "output_type": "display_data"
    }
   ],
   "source": [
    "# Plot the distribution of variables for disease and healthy participants \n",
    "for feat in heart_data.columns:\n",
    "    disease = heart_data[heart_data['target']==1][feat]\n",
    "    healthy = heart_data[heart_data['target']==0][feat]\n",
    "    xmax = max(max(disease), max(healthy))\n",
    "    xmin = min(min(disease), min(healthy))\n",
    "    width = (xmax - xmin) / 40\n",
    "    sns.distplot(disease, color='r', kde=False, bins=np.arange(xmin, xmax, width))\n",
    "    sns.distplot(healthy, color='g', kde=False, bins=np.arange(xmin, xmax, width))\n",
    "    plt.legend(['disease', 'healthy'])\n",
    "    plt.title(f'overlaid histogram for {feat}')\n",
    "    plt.show()\n",
    "    "
   ]
  },
  {
   "cell_type": "code",
   "execution_count": null,
   "metadata": {},
   "outputs": [],
   "source": []
  }
 ],
 "metadata": {
  "kernelspec": {
   "display_name": "Python 3",
   "language": "python",
   "name": "python3"
  },
  "language_info": {
   "codemirror_mode": {
    "name": "ipython",
    "version": 3
   },
   "file_extension": ".py",
   "mimetype": "text/x-python",
   "name": "python",
   "nbconvert_exporter": "python",
   "pygments_lexer": "ipython3",
   "version": "3.6.8"
  }
 },
 "nbformat": 4,
 "nbformat_minor": 4
}
