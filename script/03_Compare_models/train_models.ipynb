{
 "cells": [
  {
   "cell_type": "code",
   "execution_count": 7,
   "metadata": {},
   "outputs": [
    {
     "data": {
      "text/html": [
       "<div>\n",
       "<style scoped>\n",
       "    .dataframe tbody tr th:only-of-type {\n",
       "        vertical-align: middle;\n",
       "    }\n",
       "\n",
       "    .dataframe tbody tr th {\n",
       "        vertical-align: top;\n",
       "    }\n",
       "\n",
       "    .dataframe thead th {\n",
       "        text-align: right;\n",
       "    }\n",
       "</style>\n",
       "<table border=\"1\" class=\"dataframe\">\n",
       "  <thead>\n",
       "    <tr style=\"text-align: right;\">\n",
       "      <th></th>\n",
       "      <th>age</th>\n",
       "      <th>sex</th>\n",
       "      <th>cp</th>\n",
       "      <th>chol</th>\n",
       "      <th>restecg</th>\n",
       "      <th>exang</th>\n",
       "      <th>oldpeak</th>\n",
       "      <th>slope</th>\n",
       "      <th>restingBP</th>\n",
       "      <th>fastingBS</th>\n",
       "      <th>maxHR</th>\n",
       "    </tr>\n",
       "  </thead>\n",
       "  <tbody>\n",
       "    <tr>\n",
       "      <th>0</th>\n",
       "      <td>51</td>\n",
       "      <td>1</td>\n",
       "      <td>0</td>\n",
       "      <td>299</td>\n",
       "      <td>1</td>\n",
       "      <td>1</td>\n",
       "      <td>1.6</td>\n",
       "      <td>2</td>\n",
       "      <td>140</td>\n",
       "      <td>0</td>\n",
       "      <td>173</td>\n",
       "    </tr>\n",
       "    <tr>\n",
       "      <th>1</th>\n",
       "      <td>41</td>\n",
       "      <td>1</td>\n",
       "      <td>1</td>\n",
       "      <td>157</td>\n",
       "      <td>1</td>\n",
       "      <td>0</td>\n",
       "      <td>0.0</td>\n",
       "      <td>2</td>\n",
       "      <td>120</td>\n",
       "      <td>0</td>\n",
       "      <td>182</td>\n",
       "    </tr>\n",
       "    <tr>\n",
       "      <th>2</th>\n",
       "      <td>65</td>\n",
       "      <td>1</td>\n",
       "      <td>0</td>\n",
       "      <td>177</td>\n",
       "      <td>1</td>\n",
       "      <td>0</td>\n",
       "      <td>0.4</td>\n",
       "      <td>2</td>\n",
       "      <td>120</td>\n",
       "      <td>0</td>\n",
       "      <td>140</td>\n",
       "    </tr>\n",
       "    <tr>\n",
       "      <th>3</th>\n",
       "      <td>46</td>\n",
       "      <td>0</td>\n",
       "      <td>0</td>\n",
       "      <td>243</td>\n",
       "      <td>0</td>\n",
       "      <td>1</td>\n",
       "      <td>0.0</td>\n",
       "      <td>1</td>\n",
       "      <td>138</td>\n",
       "      <td>0</td>\n",
       "      <td>152</td>\n",
       "    </tr>\n",
       "    <tr>\n",
       "      <th>4</th>\n",
       "      <td>61</td>\n",
       "      <td>1</td>\n",
       "      <td>0</td>\n",
       "      <td>166</td>\n",
       "      <td>0</td>\n",
       "      <td>1</td>\n",
       "      <td>3.6</td>\n",
       "      <td>1</td>\n",
       "      <td>138</td>\n",
       "      <td>0</td>\n",
       "      <td>125</td>\n",
       "    </tr>\n",
       "  </tbody>\n",
       "</table>\n",
       "</div>"
      ],
      "text/plain": [
       "   age  sex  cp  chol  restecg  exang  oldpeak  slope  restingBP  fastingBS  \\\n",
       "0   51    1   0   299        1      1      1.6      2        140          0   \n",
       "1   41    1   1   157        1      0      0.0      2        120          0   \n",
       "2   65    1   0   177        1      0      0.4      2        120          0   \n",
       "3   46    0   0   243        0      1      0.0      1        138          0   \n",
       "4   61    1   0   166        0      1      3.6      1        138          0   \n",
       "\n",
       "   maxHR  \n",
       "0    173  \n",
       "1    182  \n",
       "2    140  \n",
       "3    152  \n",
       "4    125  "
      ]
     },
     "execution_count": 7,
     "metadata": {},
     "output_type": "execute_result"
    }
   ],
   "source": [
    "# Read in data\n",
    "import joblib\n",
    "import matplotlib.pyplot as plt\n",
    "import numpy as np\n",
    "import pandas as pd\n",
    "import seaborn as sns\n",
    "from sklearn.ensemble import RandomForestClassifier\n",
    "from sklearn.ensemble import GradientBoostingClassifier\n",
    "from sklearn.linear_model import LogisticRegression\n",
    "from sklearn.svm import SVC\n",
    "from sklearn.model_selection import GridSearchCV\n",
    "%matplotlib inline\n",
    "\n",
    "train_features = pd.read_csv('../../data/split_data/train_features.csv')\n",
    "train_labels = pd.read_csv('../../data/split_data/train_labels.csv')\n",
    "\n",
    "train_features.head()"
   ]
  },
  {
   "cell_type": "code",
   "execution_count": 8,
   "metadata": {},
   "outputs": [
    {
     "data": {
      "text/html": [
       "<div>\n",
       "<style scoped>\n",
       "    .dataframe tbody tr th:only-of-type {\n",
       "        vertical-align: middle;\n",
       "    }\n",
       "\n",
       "    .dataframe tbody tr th {\n",
       "        vertical-align: top;\n",
       "    }\n",
       "\n",
       "    .dataframe thead th {\n",
       "        text-align: right;\n",
       "    }\n",
       "</style>\n",
       "<table border=\"1\" class=\"dataframe\">\n",
       "  <thead>\n",
       "    <tr style=\"text-align: right;\">\n",
       "      <th></th>\n",
       "      <th>target</th>\n",
       "    </tr>\n",
       "  </thead>\n",
       "  <tbody>\n",
       "    <tr>\n",
       "      <th>0</th>\n",
       "      <td>0</td>\n",
       "    </tr>\n",
       "    <tr>\n",
       "      <th>1</th>\n",
       "      <td>1</td>\n",
       "    </tr>\n",
       "    <tr>\n",
       "      <th>2</th>\n",
       "      <td>1</td>\n",
       "    </tr>\n",
       "    <tr>\n",
       "      <th>3</th>\n",
       "      <td>1</td>\n",
       "    </tr>\n",
       "    <tr>\n",
       "      <th>4</th>\n",
       "      <td>0</td>\n",
       "    </tr>\n",
       "  </tbody>\n",
       "</table>\n",
       "</div>"
      ],
      "text/plain": [
       "   target\n",
       "0       0\n",
       "1       1\n",
       "2       1\n",
       "3       1\n",
       "4       0"
      ]
     },
     "execution_count": 8,
     "metadata": {},
     "output_type": "execute_result"
    }
   ],
   "source": [
    "train_labels.head()"
   ]
  },
  {
   "cell_type": "code",
   "execution_count": 9,
   "metadata": {},
   "outputs": [
    {
     "data": {
      "text/plain": [
       "<AxesSubplot:>"
      ]
     },
     "execution_count": 9,
     "metadata": {},
     "output_type": "execute_result"
    },
    {
     "data": {
      "image/png": "[encoded data removed]",
      "text/plain": [
       "<Figure size 432x288 with 2 Axes>"
      ]
     },
     "metadata": {
      "needs_background": "light"
     },
     "output_type": "display_data"
    }
   ],
   "source": [
    "# Check if there are correlation between the features. Ideally, if there features which are highly correlated, we can \n",
    "# only using one of them instead of both. \n",
    "matrix = np.triu(train_features.corr())\n",
    "sns.heatmap(train_features.corr(), annot=True, fmt='.1f', mask=matrix)"
   ]
  },
  {
   "cell_type": "code",
   "execution_count": 10,
   "metadata": {},
   "outputs": [],
   "source": [
    "def print_results(results):\n",
    "    print('BEST PARAMS: {}\\n'.format(results.best_params_))\n",
    "\n",
    "    means = results.cv_results_['mean_test_score']\n",
    "    stds = results.cv_results_['std_test_score']\n",
    "    for mean, std, params in zip(means, stds, results.cv_results_['params']):\n",
    "        print('{} (+/-{}) for {}'.format(round(mean, 3), round(std * 2, 3), params))"
   ]
  },
  {
   "cell_type": "code",
   "execution_count": 11,
   "metadata": {},
   "outputs": [
    {
     "name": "stdout",
     "output_type": "stream",
     "text": [
      "BEST PARAMS: {'max_depth': 8, 'n_estimators': 256}\n",
      "\n",
      "0.735 (+/-0.139) for {'max_depth': 2, 'n_estimators': 8}\n",
      "0.769 (+/-0.176) for {'max_depth': 2, 'n_estimators': 16}\n",
      "0.763 (+/-0.087) for {'max_depth': 2, 'n_estimators': 32}\n",
      "0.78 (+/-0.092) for {'max_depth': 2, 'n_estimators': 64}\n",
      "0.763 (+/-0.089) for {'max_depth': 2, 'n_estimators': 128}\n",
      "0.769 (+/-0.107) for {'max_depth': 2, 'n_estimators': 256}\n",
      "0.774 (+/-0.092) for {'max_depth': 2, 'n_estimators': 512}\n",
      "0.752 (+/-0.08) for {'max_depth': 4, 'n_estimators': 8}\n",
      "0.814 (+/-0.102) for {'max_depth': 4, 'n_estimators': 16}\n",
      "0.786 (+/-0.1) for {'max_depth': 4, 'n_estimators': 32}\n",
      "0.802 (+/-0.07) for {'max_depth': 4, 'n_estimators': 64}\n",
      "0.808 (+/-0.097) for {'max_depth': 4, 'n_estimators': 128}\n",
      "0.808 (+/-0.089) for {'max_depth': 4, 'n_estimators': 256}\n",
      "0.814 (+/-0.083) for {'max_depth': 4, 'n_estimators': 512}\n",
      "0.74 (+/-0.093) for {'max_depth': 8, 'n_estimators': 8}\n",
      "0.803 (+/-0.13) for {'max_depth': 8, 'n_estimators': 16}\n",
      "0.775 (+/-0.174) for {'max_depth': 8, 'n_estimators': 32}\n",
      "0.797 (+/-0.088) for {'max_depth': 8, 'n_estimators': 64}\n",
      "0.786 (+/-0.073) for {'max_depth': 8, 'n_estimators': 128}\n",
      "0.819 (+/-0.09) for {'max_depth': 8, 'n_estimators': 256}\n",
      "0.803 (+/-0.084) for {'max_depth': 8, 'n_estimators': 512}\n",
      "0.752 (+/-0.098) for {'max_depth': 16, 'n_estimators': 8}\n",
      "0.752 (+/-0.107) for {'max_depth': 16, 'n_estimators': 16}\n",
      "0.775 (+/-0.108) for {'max_depth': 16, 'n_estimators': 32}\n",
      "0.791 (+/-0.072) for {'max_depth': 16, 'n_estimators': 64}\n",
      "0.791 (+/-0.112) for {'max_depth': 16, 'n_estimators': 128}\n",
      "0.808 (+/-0.063) for {'max_depth': 16, 'n_estimators': 256}\n",
      "0.797 (+/-0.105) for {'max_depth': 16, 'n_estimators': 512}\n",
      "0.763 (+/-0.11) for {'max_depth': 32, 'n_estimators': 8}\n",
      "0.763 (+/-0.021) for {'max_depth': 32, 'n_estimators': 16}\n",
      "0.758 (+/-0.184) for {'max_depth': 32, 'n_estimators': 32}\n",
      "0.78 (+/-0.085) for {'max_depth': 32, 'n_estimators': 64}\n",
      "0.797 (+/-0.078) for {'max_depth': 32, 'n_estimators': 128}\n",
      "0.808 (+/-0.063) for {'max_depth': 32, 'n_estimators': 256}\n",
      "0.814 (+/-0.043) for {'max_depth': 32, 'n_estimators': 512}\n",
      "0.775 (+/-0.108) for {'max_depth': None, 'n_estimators': 8}\n",
      "0.786 (+/-0.125) for {'max_depth': None, 'n_estimators': 16}\n",
      "0.786 (+/-0.112) for {'max_depth': None, 'n_estimators': 32}\n",
      "0.792 (+/-0.099) for {'max_depth': None, 'n_estimators': 64}\n",
      "0.791 (+/-0.072) for {'max_depth': None, 'n_estimators': 128}\n",
      "0.791 (+/-0.1) for {'max_depth': None, 'n_estimators': 256}\n",
      "0.803 (+/-0.084) for {'max_depth': None, 'n_estimators': 512}\n"
     ]
    }
   ],
   "source": [
    "# Conduct search for best params while running cross-validation (GridSearchCV)\n",
    "rf = RandomForestClassifier()\n",
    "parameters = {\n",
    "    'n_estimators': [2**i for i in range(3, 10)],\n",
    "    'max_depth': [2, 4, 8, 16, 32, None]\n",
    "}\n",
    "\n",
    "cv = GridSearchCV(rf, parameters, cv=5)\n",
    "cv.fit(train_features, train_labels.values.ravel())\n",
    "\n",
    "print_results(cv)"
   ]
  },
  {
   "cell_type": "code",
   "execution_count": 12,
   "metadata": {},
   "outputs": [
    {
     "data": {
      "image/png": "[encoded data removed]",
      "text/plain": [
       "<Figure size 432x288 with 1 Axes>"
      ]
     },
     "metadata": {
      "needs_background": "light"
     },
     "output_type": "display_data"
    }
   ],
   "source": [
    "# Generate feature importance plot\n",
    "feat_imp = cv.best_estimator_.feature_importances_\n",
    "indices = np.argsort(feat_imp)\n",
    "plt.yticks(range(len(indices)), [train_features.columns[i] for i in indices])\n",
    "plt.barh(range(len(indices)), feat_imp[indices], color='r', align='center')\n",
    "plt.show()"
   ]
  },
  {
   "cell_type": "markdown",
   "metadata": {},
   "source": [
    "### ST slope has to be separated into dummy variables. 0, 1, 2 should be different columns"
   ]
  },
  {
   "cell_type": "markdown",
   "metadata": {},
   "source": [
    "### See a clear separation power for oldpeak and maxHR as we saw in the EDA_2"
   ]
  },
  {
   "cell_type": "code",
   "execution_count": null,
   "metadata": {},
   "outputs": [],
   "source": []
  }
 ],
 "metadata": {
  "kernelspec": {
   "display_name": "Python 3",
   "language": "python",
   "name": "python3"
  },
  "language_info": {
   "codemirror_mode": {
    "name": "ipython",
    "version": 3
   },
   "file_extension": ".py",
   "mimetype": "text/x-python",
   "name": "python",
   "nbconvert_exporter": "python",
   "pygments_lexer": "ipython3",
   "version": "3.6.8"
  }
 },
 "nbformat": 4,
 "nbformat_minor": 4
}
